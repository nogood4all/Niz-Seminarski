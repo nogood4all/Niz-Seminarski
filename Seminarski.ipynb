{
 "cells": [
  {
   "cell_type": "code",
   "execution_count": 96,
   "metadata": {
    "collapsed": true
   },
   "outputs": [],
   "source": [
    "import numpy as np\n",
    "import pandas as pd\n",
    "import matplotlib.pyplot as plt"
   ]
  },
  {
   "cell_type": "code",
   "execution_count": 97,
   "metadata": {
    "collapsed": false,
    "scrolled": false
   },
   "outputs": [],
   "source": [
    "#Citanje podataka\n",
    "#Izbacivanje NaN vrednosti\n",
    "#Izbacivanje svih redova u kojim je Landsize = 0\n",
    "#Normalizovanje data frame-a tako da ne postoje rupe medju indeksima\n",
    "data = pd.read_csv(\"housing_data.csv\")\n",
    "data = data.dropna(axis=\"rows\", how = \"any\")\n",
    "data = data[data.Landsize != 0.0]\n",
    "data = data.reset_index(drop=True)"
   ]
  },
  {
   "cell_type": "code",
   "execution_count": 132,
   "metadata": {
    "collapsed": false
   },
   "outputs": [
    {
     "data": {
      "image/png": "[encoded data removed]",
      "text/plain": [
       "<matplotlib.figure.Figure at 0x7fa7c37d2c50>"
      ]
     },
     "metadata": {},
     "output_type": "display_data"
    }
   ],
   "source": [
    "x_pocetno = data['Landsize']\n",
    "y_pocetno = data['Price']\n",
    "broj_redova = len(data)"
   ]
  },
  {
   "cell_type": "code",
   "execution_count": 112,
   "metadata": {
    "collapsed": false
   },
   "outputs": [],
   "source": [
    "#Uzimamo minimalnu i maksimalnu vrednost x i y koje su potrebne za pripremu podataka\n",
    "z = np.sort(x)\n",
    "x_max = z[broj_redova-1]\n",
    "x_min = z[0]\n",
    "z = np.sort(y)\n",
    "y_max = z[broj_redova-1]\n",
    "y_min = z[0]"
   ]
  },
  {
   "cell_type": "code",
   "execution_count": 113,
   "metadata": {
    "collapsed": false
   },
   "outputs": [],
   "source": [
    "#Funkcija priprema sluzi kako bi sve varijante gradijentog spusta mogle da zapocnu sa radom\n",
    "# jer se uvek prvo poziva funkcija Grad a u njoj su potrebni podaci koji se \n",
    "# racunaju u funkciji f\n",
    "\n",
    "def priprema(x, start, end):\n",
    "    X = [0]*broj_redova\n",
    "    Y = [0]*broj_redova\n",
    "    a = x[0]\n",
    "    b = x[1]\n",
    "\n",
    "    for i in range(start, end -1):\n",
    "        X[i] = (x_pocetno[i]-x_min) / (x_max-x_min)\n",
    "        Y[i] = (y_pocetno[i]-y_min) / (y_max-y_min)\n",
    "    Ypred = [0] * broj_redova\n",
    "    for i in range(start, end - 1):\n",
    "            Ypred[i] = a + b*X[i]"
   ]
  },
  {
   "cell_type": "code",
   "execution_count": 114,
   "metadata": {
    "collapsed": false
   },
   "outputs": [],
   "source": [
    "def f(x, start, end):\n",
    "    #Ypred je nase predvidjanje nove cene kuce\n",
    "    #SSE je niz kvadratnih gresaka\n",
    "    #sse je ukupna kvadratna greska\n",
    "    \n",
    "    SSE = [0] * broj_redova\n",
    "    sse = 0 \n",
    "    a = x[0]\n",
    "    b = x[1]\n",
    "    for i in range(start, end - 1):\n",
    "        Ypred[i] = 0\n",
    "        Ypred[i] = a + b*X[i]\n",
    "        SSE[i] = 0.5*(Y[i] - Ypred[i])**2\n",
    "    for i in range(start, end -1):\n",
    "        sse += SSE[i]\n",
    "    #print sse\n",
    "    return sse\n"
   ]
  },
  {
   "cell_type": "code",
   "execution_count": 115,
   "metadata": {
    "collapsed": false
   },
   "outputs": [],
   "source": [
    "def grad(x, lr, start, end):\n",
    "    #updateA i updateB su gradijenti pomocu kojih menjamo vrednosti a i b u novim iteracijama\n",
    "    #A i B su pomocni nizovi pomocu kojih dobijamo updateA i updateB\n",
    "    A = [0]*broj_redova\n",
    "    B = [0]*broj_redova\n",
    "    updateA = 0\n",
    "    updateB = 0  \n",
    "    a = x[0]\n",
    "    b = x[1]\n",
    "    #print \"a i b\", a, b\n",
    "    #A[i] i B[i] su u sustini izvodi funkcije po 'a' i po 'b'\n",
    "    for i in range(start, end - 1):    \n",
    "        A[i] = Ypred[i]-Y[i]\n",
    "        B[i] = (Ypred[i]-Y[i])*X[i]        \n",
    "    for i in range(start, end - 1):\n",
    "        updateA += A[i]\n",
    "        updateB += B[i]\n",
    "    #print updateA, updateB\n",
    "    #azuriranje a i b\n",
    "    new_a = a - lr*updateA\n",
    "    new_b = b - lr*updateB\n",
    "    return np.array([new_a, new_b])"
   ]
  },
  {
   "cell_type": "code",
   "execution_count": 116,
   "metadata": {
    "collapsed": false
   },
   "outputs": [],
   "source": [
    "#Obican gradijenti spust, nalik onom s casa\n",
    "def gradient_descent(f, grad, x, lr, eps, max_iterations, start, end):\n",
    "    priprema(x, start, end)\n",
    "    x_old = x\n",
    "    for i in range(0, max_iterations):\n",
    "        z = grad(x_old, lr, start, end)\n",
    "        #print \"old \",z\n",
    "        x_new = x_old - lr*z\n",
    "        #print \"new \",x_new\n",
    "        if np.abs(f(x_old, start, end)-f(x_new, start, end))<eps:\n",
    "            break\n",
    "        x_old = x_new\n",
    "    print i\n",
    "    return x_new"
   ]
  },
  {
   "cell_type": "code",
   "execution_count": 149,
   "metadata": {
    "collapsed": false,
    "scrolled": false
   },
   "outputs": [
    {
     "name": "stdout",
     "output_type": "stream",
     "text": [
      "9463\n",
      "0\n"
     ]
    }
   ],
   "source": [
    "train_gradient = gradient_descent(f, grad,(0.4, 0.7), 0.0001, 0.001, 10000, 0, 2000)\n",
    "test_gradient = gradient_descent(f, grad,train_gradient, 0.0001, 0.01, 10000, 2000, 3628)"
   ]
  },
  {
   "cell_type": "code",
   "execution_count": 148,
   "metadata": {
    "collapsed": true
   },
   "outputs": [],
   "source": [
    "#Uvodjenje momentuma u gradinetni spust. \n",
    "#Koristimo konstantu 0.9, navnodno to je uobicajna vrednost koja se koristi\n",
    "#Razlika ovog pristupa je sto uvodimo brzinu(eng. velocity)\n",
    "#Brzinu dobijamo tako sto prethodnu vrednost brzine mnozimo sa momentumom\n",
    "# i sabiramo sa korakom kao u obicnom gradijentom spustu\n",
    "def gradient_descent_momentum(f, grad, x, lr, eps, max_iterations, start, end):\n",
    "    priprema(x, start, end)\n",
    "    x_old = x\n",
    "    momentum = 0.9\n",
    "    v_old = lr * grad(x, lr, start, end)\n",
    "    for i in range(0, max_iterations):\n",
    "        v_new = v_old * momentum + lr*grad(x_old, lr, start, end)\n",
    "        x_new = x_old - v_new\n",
    "        if np.abs(f(x_old, start, end)-f(x_new, start, end))<eps:\n",
    "            break\n",
    "        x_old = x_new\n",
    "        v_old = v_new\n",
    "    print i\n",
    "    return x_new"
   ]
  },
  {
   "cell_type": "code",
   "execution_count": 76,
   "metadata": {
    "collapsed": false
   },
   "outputs": [
    {
     "name": "stdout",
     "output_type": "stream",
     "text": [
      "1106\n"
     ]
    },
    {
     "data": {
      "text/plain": [
       "array([ 0.144863  ,  0.23121872])"
      ]
     },
     "execution_count": 76,
     "metadata": {},
     "output_type": "execute_result"
    }
   ],
   "source": [
    "train_momentum = gradient_descent_momentum(f, grad,(0.4, 0.7), 0.0001, 0.001, 10000, 0, 2000)\n",
    "test_momentum = gradient_descent_momentum(f, grad,train_momentum, 0.0001, 0.01, 10000, 2000, 3628)"
   ]
  },
  {
   "cell_type": "code",
   "execution_count": 118,
   "metadata": {
    "collapsed": false
   },
   "outputs": [],
   "source": [
    "#Nestorovljev algoritam pored momentuma uvodi i\n",
    "#to da nase trenutne koordinate a i b modifikujemo\n",
    "#tako sto od njih oduzimamo staru brzinu pomnozemu sa momentumom\n",
    "def gradient_descent_nestorov(f, grad, x, lr, eps, max_iterations, start, end):\n",
    "    priprema(x, start, end)\n",
    "    x_old = x\n",
    "    momentum = 0.9   \n",
    "    v_old = lr * grad(x,lr, start, end)\n",
    "    for i in range(0, max_iterations):\n",
    "        x_old = x_old - v_old * momentum\n",
    "        v_new = v_old * momentum + lr*grad(x_old,lr, start, end)\n",
    "        x_new = x_old - v_new\n",
    "        if np.abs(f(x_old, start, end)-f(x_new, start, end))<eps:\n",
    "            break\n",
    "        x_old = x_new\n",
    "        v_old = v_new\n",
    "    print i\n",
    "    \n",
    "    return x_new"
   ]
  },
  {
   "cell_type": "code",
   "execution_count": 146,
   "metadata": {
    "collapsed": false
   },
   "outputs": [
    {
     "name": "stdout",
     "output_type": "stream",
     "text": [
      "231\n",
      "112\n"
     ]
    }
   ],
   "source": [
    "train_nestorov = gradient_descent_nestorov(f, grad,(0.2, 0.8), 0.0001, 0.0001, 10000, 0, 2000)\n",
    "test_nestorov = gradient_descent_nestorov(f, grad, train_nestorov, 0.0001, 0.0001, 10000, 2000, 3628)"
   ]
  },
  {
   "cell_type": "code",
   "execution_count": 147,
   "metadata": {
    "collapsed": false
   },
   "outputs": [
    {
     "data": {
      "image/png": "[encoded data removed]",
      "text/plain": [
       "<matplotlib.figure.Figure at 0x7fa7c108c490>"
      ]
     },
     "metadata": {},
     "output_type": "display_data"
    }
   ],
   "source": [
    "plt.scatter(X,Y, color = 'black')\n",
    "plt.plot(test_nestorov, color = 'blue')\n",
    "plt.xticks()\n",
    "plt.yticks()\n",
    "plt.show()"
   ]
  },
  {
   "cell_type": "code",
   "execution_count": 120,
   "metadata": {
    "collapsed": false
   },
   "outputs": [],
   "source": [
    "#Adagrad algoritam uvodi modifikuje korak ucenja\n",
    "#To postizemo tako sto trenutni gradijent delimo konstantom fudge factor-om\n",
    "#sa korenom historical_grad. Historical gradient je u sustini suma svih\n",
    "#modifikacija gresaka koje smo smonjivali tokom rada\n",
    "def gradient_descent_adagard(f, grad, x, lr, eps, max_iterations, fudge_factor, start, end):\n",
    "    priprema(x, start, end)\n",
    "    x_old = x\n",
    "    historical_grad = 1\n",
    "    adagard = 1\n",
    "    for i in range(0, max_iterations):\n",
    "        z = grad(x_old, lr, start, end)\n",
    "        adjusted_grad = z / (fudge_factor + np.sqrt(historical_grad))\n",
    "        #print \"old \",z\n",
    "        x_new = x_old - lr*adjusted_grad\n",
    "        #print \"new \",x_new\n",
    "        if np.abs(f(x_old, start, end)-f(x_new, start, end))<eps:\n",
    "            break\n",
    "        x_old = x_new\n",
    "        historical_grad += f(x_new, start, end)\n",
    "    print i\n",
    "    return x_new"
   ]
  },
  {
   "cell_type": "code",
   "execution_count": 121,
   "metadata": {
    "collapsed": false
   },
   "outputs": [
    {
     "name": "stdout",
     "output_type": "stream",
     "text": [
      "484\n",
      "423\n"
     ]
    }
   ],
   "source": [
    "train_adagrad = gradient_descent_adagard(f, grad,(0.4, 0.7), 0.0001, 0.0001, 10000, 0.000001, 0, 2000)\n",
    "test_adagrad = gradient_descent_adagard(f, grad, train_adagrad, 0.0001, 0.0001, 10000, 0.000001, 2000, 3628)"
   ]
  },
  {
   "cell_type": "code",
   "execution_count": 144,
   "metadata": {
    "collapsed": false
   },
   "outputs": [
    {
     "data": {
      "image/png": "[encoded data removed]",
      "text/plain": [
       "<matplotlib.figure.Figure at 0x7fa7c3604ed0>"
      ]
     },
     "metadata": {},
     "output_type": "display_data"
    }
   ],
   "source": [
    "plt.scatter(X,Y, color = 'black')\n",
    "plt.plot(test_adagrad, color = 'blue')\n",
    "plt.xticks()\n",
    "plt.yticks()\n",
    "plt.show()"
   ]
  },
  {
   "cell_type": "code",
   "execution_count": null,
   "metadata": {
    "collapsed": true
   },
   "outputs": [],
   "source": []
  }
 ],
 "metadata": {
  "kernelspec": {
   "display_name": "Python 2",
   "language": "python",
   "name": "python2"
  },
  "language_info": {
   "codemirror_mode": {
    "name": "ipython",
    "version": 2
   },
   "file_extension": ".py",
   "mimetype": "text/x-python",
   "name": "python",
   "nbconvert_exporter": "python",
   "pygments_lexer": "ipython2",
   "version": "2.7.13"
  }
 },
 "nbformat": 4,
 "nbformat_minor": 2
}
